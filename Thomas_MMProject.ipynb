{
 "cells": [
  {
   "cell_type": "markdown",
   "metadata": {},
   "source": [
    "Python Project - Marvet Mart Project\n",
    "Brian Thomas\n",
    "3/10/2021"
   ]
  },
  {
   "cell_type": "code",
   "execution_count": 488,
   "metadata": {},
   "outputs": [],
   "source": [
    "import csv\n",
    "import numpy as np\n",
    "import pandas as pd\n",
    "from pandas import DataFrame, Series\n",
    "import seaborn as sns\n",
    "import matplotlib.pyplot as plt\n",
    "from scipy.stats import pearsonr\n",
    "pd.set_option('display.float_format', lambda x: '%.3f' % x) # converts all decimals to 3 numbers after decimal place\n",
    "\n",
    "# useful for dark mode specifically\n",
    "%config InlineBackend.print_figure_kwargs={'facecolor' : 'w'} # ensures all visualization backgrounds are white\n",
    "\n",
    "import warnings\n",
    "warnings.filterwarnings('ignore')"
   ]
  },
  {
   "cell_type": "markdown",
   "metadata": {},
   "source": [
    "Part 1: Cleaning the Data"
   ]
  },
  {
   "cell_type": "code",
   "execution_count": 489,
   "metadata": {},
   "outputs": [
    {
     "name": "stdout",
     "output_type": "stream",
     "text": [
      "(50000, 14)\n",
      "Region            50000\n",
      "Country           50000\n",
      "Item Type         49994\n",
      "Sales Channel     50000\n",
      "Order Priority    49985\n",
      "Order Date        50000\n",
      "Order ID          50000\n",
      "Ship Date         50000\n",
      "Units Sold        50000\n",
      "Unit Price        50000\n",
      "Unit Cost         50000\n",
      "Total Revenue     50000\n",
      "Total Cost        50000\n",
      "Total Profit      50000\n",
      "dtype: int64\n",
      "Region             0\n",
      "Country            0\n",
      "Item Type         -6\n",
      "Sales Channel      0\n",
      "Order Priority   -15\n",
      "Order Date         0\n",
      "Order ID           0\n",
      "Ship Date          0\n",
      "Units Sold         0\n",
      "Unit Price         0\n",
      "Unit Cost          0\n",
      "Total Revenue      0\n",
      "Total Cost         0\n",
      "Total Profit       0\n",
      "dtype: int64\n"
     ]
    }
   ],
   "source": [
    "#This counts the amount of columns and finds the number of missing data columns\n",
    "MMSales = pd.read_csv('MM_Sales.csv', sep = ',')\n",
    "print(MMSales.shape)\n",
    "print(MMSales.count())\n",
    "print(MMSales.count()-MMSales.shape[0]) "
   ]
  },
  {
   "cell_type": "code",
   "execution_count": 490,
   "metadata": {},
   "outputs": [
    {
     "data": {
      "text/html": [
       "<div>\n",
       "<style scoped>\n",
       "    .dataframe tbody tr th:only-of-type {\n",
       "        vertical-align: middle;\n",
       "    }\n",
       "\n",
       "    .dataframe tbody tr th {\n",
       "        vertical-align: top;\n",
       "    }\n",
       "\n",
       "    .dataframe thead th {\n",
       "        text-align: right;\n",
       "    }\n",
       "</style>\n",
       "<table border=\"1\" class=\"dataframe\">\n",
       "  <thead>\n",
       "    <tr style=\"text-align: right;\">\n",
       "      <th></th>\n",
       "      <th>Region</th>\n",
       "      <th>Country</th>\n",
       "      <th>Item Type</th>\n",
       "      <th>Sales Channel</th>\n",
       "      <th>Order Priority</th>\n",
       "      <th>Order Date</th>\n",
       "      <th>Order ID</th>\n",
       "      <th>Ship Date</th>\n",
       "      <th>Units Sold</th>\n",
       "      <th>Unit Price</th>\n",
       "      <th>Unit Cost</th>\n",
       "      <th>Total Revenue</th>\n",
       "      <th>Total Cost</th>\n",
       "      <th>Total Profit</th>\n",
       "    </tr>\n",
       "  </thead>\n",
       "  <tbody>\n",
       "    <tr>\n",
       "      <th>0</th>\n",
       "      <td>Sub-Saharan Africa</td>\n",
       "      <td>Namibia</td>\n",
       "      <td>Household</td>\n",
       "      <td>Offline</td>\n",
       "      <td>M</td>\n",
       "      <td>8/31/15</td>\n",
       "      <td>897751939</td>\n",
       "      <td>10/12/15</td>\n",
       "      <td>3604</td>\n",
       "      <td>668.270</td>\n",
       "      <td>502.540</td>\n",
       "      <td>2408445.080</td>\n",
       "      <td>1811154.160</td>\n",
       "      <td>597290.920</td>\n",
       "    </tr>\n",
       "    <tr>\n",
       "      <th>1</th>\n",
       "      <td>Europe</td>\n",
       "      <td>Iceland</td>\n",
       "      <td>Baby Food</td>\n",
       "      <td>Offline</td>\n",
       "      <td>L</td>\n",
       "      <td>11/20/10</td>\n",
       "      <td>599480426</td>\n",
       "      <td>1/9/11</td>\n",
       "      <td>8435</td>\n",
       "      <td>255.280</td>\n",
       "      <td>159.420</td>\n",
       "      <td>2153286.800</td>\n",
       "      <td>1344707.700</td>\n",
       "      <td>808579.100</td>\n",
       "    </tr>\n",
       "    <tr>\n",
       "      <th>2</th>\n",
       "      <td>Europe</td>\n",
       "      <td>Russia</td>\n",
       "      <td>Meat</td>\n",
       "      <td>Online</td>\n",
       "      <td>L</td>\n",
       "      <td>6/22/17</td>\n",
       "      <td>538911855</td>\n",
       "      <td>6/25/17</td>\n",
       "      <td>4848</td>\n",
       "      <td>421.890</td>\n",
       "      <td>364.690</td>\n",
       "      <td>2045322.720</td>\n",
       "      <td>1768017.120</td>\n",
       "      <td>277305.600</td>\n",
       "    </tr>\n",
       "    <tr>\n",
       "      <th>3</th>\n",
       "      <td>Europe</td>\n",
       "      <td>Moldova</td>\n",
       "      <td>Meat</td>\n",
       "      <td>Online</td>\n",
       "      <td>L</td>\n",
       "      <td>2/28/12</td>\n",
       "      <td>459845054</td>\n",
       "      <td>3/20/12</td>\n",
       "      <td>7225</td>\n",
       "      <td>421.890</td>\n",
       "      <td>364.690</td>\n",
       "      <td>3048155.250</td>\n",
       "      <td>2634885.250</td>\n",
       "      <td>413270.000</td>\n",
       "    </tr>\n",
       "    <tr>\n",
       "      <th>4</th>\n",
       "      <td>Europe</td>\n",
       "      <td>Malta</td>\n",
       "      <td>Cereal</td>\n",
       "      <td>Online</td>\n",
       "      <td>H</td>\n",
       "      <td>8/12/10</td>\n",
       "      <td>626391351</td>\n",
       "      <td>9/13/10</td>\n",
       "      <td>1975</td>\n",
       "      <td>205.700</td>\n",
       "      <td>117.110</td>\n",
       "      <td>406257.500</td>\n",
       "      <td>231292.250</td>\n",
       "      <td>174965.250</td>\n",
       "    </tr>\n",
       "  </tbody>\n",
       "</table>\n",
       "</div>"
      ],
      "text/plain": [
       "               Region   Country  Item Type Sales Channel Order Priority  \\\n",
       "0  Sub-Saharan Africa   Namibia  Household       Offline              M   \n",
       "1              Europe   Iceland  Baby Food       Offline              L   \n",
       "2              Europe    Russia       Meat        Online              L   \n",
       "3              Europe  Moldova        Meat        Online              L   \n",
       "4              Europe     Malta     Cereal        Online              H   \n",
       "\n",
       "  Order Date   Order ID Ship Date  Units Sold  Unit Price  Unit Cost  \\\n",
       "0    8/31/15  897751939  10/12/15        3604     668.270    502.540   \n",
       "1   11/20/10  599480426    1/9/11        8435     255.280    159.420   \n",
       "2    6/22/17  538911855   6/25/17        4848     421.890    364.690   \n",
       "3    2/28/12  459845054   3/20/12        7225     421.890    364.690   \n",
       "4    8/12/10  626391351   9/13/10        1975     205.700    117.110   \n",
       "\n",
       "   Total Revenue  Total Cost  Total Profit  \n",
       "0    2408445.080 1811154.160    597290.920  \n",
       "1    2153286.800 1344707.700    808579.100  \n",
       "2    2045322.720 1768017.120    277305.600  \n",
       "3    3048155.250 2634885.250    413270.000  \n",
       "4     406257.500  231292.250    174965.250  "
      ]
     },
     "metadata": {},
     "output_type": "display_data"
    },
    {
     "name": "stdout",
     "output_type": "stream",
     "text": [
      "Region             object\n",
      "Country            object\n",
      "Item Type          object\n",
      "Sales Channel      object\n",
      "Order Priority     object\n",
      "Order Date         object\n",
      "Order ID           object\n",
      "Ship Date          object\n",
      "Units Sold          int64\n",
      "Unit Price        float64\n",
      "Unit Cost         float64\n",
      "Total Revenue     float64\n",
      "Total Cost        float64\n",
      "Total Profit      float64\n",
      "dtype: object\n"
     ]
    }
   ],
   "source": [
    "#This prints out a list of all the types of data in each data column\n",
    "display(MMSales.head())\n",
    "print(MMSales.dtypes)"
   ]
  },
  {
   "cell_type": "code",
   "execution_count": 491,
   "metadata": {},
   "outputs": [
    {
     "name": "stdout",
     "output_type": "stream",
     "text": [
      "Country Count\n",
      "Trinidad and Tobago    321\n",
      "Guinea                 318\n",
      "Cape Verde             315\n",
      "Maldives               311\n",
      "Finland                310\n",
      "                      ... \n",
      "Monaco                 236\n",
      "Malawi                 233\n",
      "437.2                    1\n",
      "651.21                   1\n",
      "154.06                   1\n",
      "Name: Country, Length: 188, dtype: int64\n"
     ]
    }
   ],
   "source": [
    "#Since there are no NaN values in the Country column, we need to find the values that have a number as a string\n",
    "print(\"Country Count\")\n",
    "print(MMSales['Country'].value_counts())"
   ]
  },
  {
   "cell_type": "code",
   "execution_count": 492,
   "metadata": {},
   "outputs": [
    {
     "name": "stdout",
     "output_type": "stream",
     "text": [
      "Trinidad and Tobago    321\n",
      "Guinea                 318\n",
      "Cape Verde             315\n",
      "Maldives               311\n",
      "Finland                310\n",
      "                      ... \n",
      "Iran                   238\n",
      "Armenia                237\n",
      "Monaco                 236\n",
      "Malawi                 233\n",
      "NULL                     3\n",
      "Name: Country, Length: 186, dtype: int64\n"
     ]
    }
   ],
   "source": [
    "MMSales['Country'] = MMSales['Country'].replace(to_replace = '437.2', value= 'NULL')\n",
    "MMSales['Country'] = MMSales['Country'].replace(to_replace = '154.06', value= 'NULL')\n",
    "MMSales['Country'] = MMSales['Country'].replace(to_replace = '651.21', value= 'NULL')\n",
    "print(MMSales['Country'].value_counts())"
   ]
  },
  {
   "cell_type": "code",
   "execution_count": 493,
   "metadata": {},
   "outputs": [
    {
     "data": {
      "text/html": [
       "<div>\n",
       "<style scoped>\n",
       "    .dataframe tbody tr th:only-of-type {\n",
       "        vertical-align: middle;\n",
       "    }\n",
       "\n",
       "    .dataframe tbody tr th {\n",
       "        vertical-align: top;\n",
       "    }\n",
       "\n",
       "    .dataframe thead th {\n",
       "        text-align: right;\n",
       "    }\n",
       "</style>\n",
       "<table border=\"1\" class=\"dataframe\">\n",
       "  <thead>\n",
       "    <tr style=\"text-align: right;\">\n",
       "      <th></th>\n",
       "      <th>Region</th>\n",
       "      <th>Country</th>\n",
       "      <th>Item Type</th>\n",
       "      <th>Sales Channel</th>\n",
       "      <th>Order Priority</th>\n",
       "      <th>Order Date</th>\n",
       "      <th>Order ID</th>\n",
       "      <th>Ship Date</th>\n",
       "      <th>Units Sold</th>\n",
       "      <th>Unit Price</th>\n",
       "      <th>Unit Cost</th>\n",
       "      <th>Total Revenue</th>\n",
       "      <th>Total Cost</th>\n",
       "      <th>Total Profit</th>\n",
       "    </tr>\n",
       "  </thead>\n",
       "  <tbody>\n",
       "    <tr>\n",
       "      <th>11</th>\n",
       "      <td>Middle East and North Africa</td>\n",
       "      <td>Afghanistan</td>\n",
       "      <td>NaN</td>\n",
       "      <td>Online</td>\n",
       "      <td>C</td>\n",
       "      <td>10/21/16</td>\n",
       "      <td>620358741</td>\n",
       "      <td>12/1/16</td>\n",
       "      <td>6792</td>\n",
       "      <td>437.200</td>\n",
       "      <td>263.330</td>\n",
       "      <td>2969462.400</td>\n",
       "      <td>1788537.360</td>\n",
       "      <td>1180925.040</td>\n",
       "    </tr>\n",
       "    <tr>\n",
       "      <th>321</th>\n",
       "      <td>Europe</td>\n",
       "      <td>France</td>\n",
       "      <td>NaN</td>\n",
       "      <td>Online</td>\n",
       "      <td>M</td>\n",
       "      <td>1/23/15</td>\n",
       "      <td>714754474</td>\n",
       "      <td>2/5/15</td>\n",
       "      <td>587</td>\n",
       "      <td>668.270</td>\n",
       "      <td>502.540</td>\n",
       "      <td>392274.490</td>\n",
       "      <td>294990.980</td>\n",
       "      <td>97283.510</td>\n",
       "    </tr>\n",
       "    <tr>\n",
       "      <th>14519</th>\n",
       "      <td>Central America and the Caribbean</td>\n",
       "      <td>Nicaragua</td>\n",
       "      <td>NaN</td>\n",
       "      <td>Online</td>\n",
       "      <td>H</td>\n",
       "      <td>2/21/13</td>\n",
       "      <td>391752135</td>\n",
       "      <td>3/28/13</td>\n",
       "      <td>7017</td>\n",
       "      <td>651.210</td>\n",
       "      <td>524.960</td>\n",
       "      <td>4569540.570</td>\n",
       "      <td>3683644.320</td>\n",
       "      <td>885896.250</td>\n",
       "    </tr>\n",
       "    <tr>\n",
       "      <th>14520</th>\n",
       "      <td>Australia and Oceania</td>\n",
       "      <td>Vanuatu</td>\n",
       "      <td>NaN</td>\n",
       "      <td>Online</td>\n",
       "      <td>M</td>\n",
       "      <td>6/3/14</td>\n",
       "      <td>282816255</td>\n",
       "      <td>6/23/14</td>\n",
       "      <td>469</td>\n",
       "      <td>154.060</td>\n",
       "      <td>90.930</td>\n",
       "      <td>72254.140</td>\n",
       "      <td>42646.170</td>\n",
       "      <td>29607.970</td>\n",
       "    </tr>\n",
       "    <tr>\n",
       "      <th>47186</th>\n",
       "      <td>Europe</td>\n",
       "      <td>Austria</td>\n",
       "      <td>NaN</td>\n",
       "      <td>Offline</td>\n",
       "      <td>L</td>\n",
       "      <td>5/17/11</td>\n",
       "      <td>864141499</td>\n",
       "      <td>5/24/11</td>\n",
       "      <td>7528</td>\n",
       "      <td>81.730</td>\n",
       "      <td>56.670</td>\n",
       "      <td>615263.440</td>\n",
       "      <td>426611.760</td>\n",
       "      <td>188651.680</td>\n",
       "    </tr>\n",
       "    <tr>\n",
       "      <th>47188</th>\n",
       "      <td>Europe</td>\n",
       "      <td>Romania</td>\n",
       "      <td>NaN</td>\n",
       "      <td>Online</td>\n",
       "      <td>M</td>\n",
       "      <td>3/31/16</td>\n",
       "      <td>818466699</td>\n",
       "      <td>5/3/16</td>\n",
       "      <td>1339</td>\n",
       "      <td>154.060</td>\n",
       "      <td>90.930</td>\n",
       "      <td>206286.340</td>\n",
       "      <td>121755.270</td>\n",
       "      <td>84531.070</td>\n",
       "    </tr>\n",
       "  </tbody>\n",
       "</table>\n",
       "</div>"
      ],
      "text/plain": [
       "                                  Region      Country Item Type Sales Channel  \\\n",
       "11          Middle East and North Africa  Afghanistan       NaN        Online   \n",
       "321                               Europe       France       NaN        Online   \n",
       "14519  Central America and the Caribbean    Nicaragua       NaN        Online   \n",
       "14520              Australia and Oceania      Vanuatu       NaN        Online   \n",
       "47186                             Europe      Austria       NaN       Offline   \n",
       "47188                             Europe      Romania       NaN        Online   \n",
       "\n",
       "      Order Priority Order Date   Order ID Ship Date  Units Sold  Unit Price  \\\n",
       "11                 C   10/21/16  620358741   12/1/16        6792     437.200   \n",
       "321                M    1/23/15  714754474    2/5/15         587     668.270   \n",
       "14519              H    2/21/13  391752135   3/28/13        7017     651.210   \n",
       "14520              M     6/3/14  282816255   6/23/14         469     154.060   \n",
       "47186              L    5/17/11  864141499   5/24/11        7528      81.730   \n",
       "47188              M    3/31/16  818466699    5/3/16        1339     154.060   \n",
       "\n",
       "       Unit Cost  Total Revenue  Total Cost  Total Profit  \n",
       "11       263.330    2969462.400 1788537.360   1180925.040  \n",
       "321      502.540     392274.490  294990.980     97283.510  \n",
       "14519    524.960    4569540.570 3683644.320    885896.250  \n",
       "14520     90.930      72254.140   42646.170     29607.970  \n",
       "47186     56.670     615263.440  426611.760    188651.680  \n",
       "47188     90.930     206286.340  121755.270     84531.070  "
      ]
     },
     "execution_count": 493,
     "metadata": {},
     "output_type": "execute_result"
    }
   ],
   "source": [
    "#This finds where the NaN values are in the Item Type column\n",
    "NULLItem = pd.isnull(MMSales['Item Type'])\n",
    "MMSales[NULLItem]"
   ]
  },
  {
   "cell_type": "code",
   "execution_count": 494,
   "metadata": {},
   "outputs": [
    {
     "name": "stdout",
     "output_type": "stream",
     "text": [
      "Fruits             4221\n",
      "Meat               4221\n",
      "Cosmetics          4192\n",
      "Vegetables         4189\n",
      "Personal Care      4185\n",
      "Beverages          4173\n",
      "Snacks             4163\n",
      "Clothes            4155\n",
      "Cereal             4141\n",
      "Office Supplies    4138\n",
      "Household          4138\n",
      "Baby Food          4078\n",
      "NULL                  6\n",
      "Name: Item Type, dtype: int64\n",
      "                                  Region      Country Item Type Sales Channel  \\\n",
      "11          Middle East and North Africa  Afghanistan      NULL        Online   \n",
      "321                               Europe       France      NULL        Online   \n",
      "14519  Central America and the Caribbean    Nicaragua      NULL        Online   \n",
      "14520              Australia and Oceania      Vanuatu      NULL        Online   \n",
      "47186                             Europe      Austria      NULL       Offline   \n",
      "47188                             Europe      Romania      NULL        Online   \n",
      "\n",
      "      Order Priority Order Date   Order ID Ship Date  Units Sold  Unit Price  \\\n",
      "11                 C   10/21/16  620358741   12/1/16        6792     437.200   \n",
      "321                M    1/23/15  714754474    2/5/15         587     668.270   \n",
      "14519              H    2/21/13  391752135   3/28/13        7017     651.210   \n",
      "14520              M     6/3/14  282816255   6/23/14         469     154.060   \n",
      "47186              L    5/17/11  864141499   5/24/11        7528      81.730   \n",
      "47188              M    3/31/16  818466699    5/3/16        1339     154.060   \n",
      "\n",
      "       Unit Cost  Total Revenue  Total Cost  Total Profit  \n",
      "11       263.330    2969462.400 1788537.360   1180925.040  \n",
      "321      502.540     392274.490  294990.980     97283.510  \n",
      "14519    524.960    4569540.570 3683644.320    885896.250  \n",
      "14520     90.930      72254.140   42646.170     29607.970  \n",
      "47186     56.670     615263.440  426611.760    188651.680  \n",
      "47188     90.930     206286.340  121755.270     84531.070  \n"
     ]
    }
   ],
   "source": [
    "#This replaces all NaN values with NULL in the Item Type column\n",
    "MMSales['Item Type'] = MMSales['Item Type'].replace(np.NaN, value = 'NULL')\n",
    "print(MMSales['Item Type'].value_counts())\n",
    "print(MMSales[NULLItem])"
   ]
  },
  {
   "cell_type": "code",
   "execution_count": 495,
   "metadata": {},
   "outputs": [
    {
     "name": "stdout",
     "output_type": "stream",
     "text": [
      "                                  Region               Country      Item Type  \\\n",
      "13          Middle East and North Africa               Lebanon     Vegetables   \n",
      "189                               Europe                France      Cosmetics   \n",
      "259    Central America and the Caribbean                Belize         Fruits   \n",
      "364                   Sub-Saharan Africa                Angola  Personal Care   \n",
      "469                                 Asia            Tajikistan        Clothes   \n",
      "644                   Sub-Saharan Africa               Nigeria        Clothes   \n",
      "784                   Sub-Saharan Africa               Lesotho           Meat   \n",
      "924         Middle East and North Africa  United Arab Emirates      Household   \n",
      "1064        Middle East and North Africa          Saudi Arabia      Baby Food   \n",
      "3969                  Sub-Saharan Africa            Cape Verde         Fruits   \n",
      "5054        Middle East and North Africa                 Egypt      Baby Food   \n",
      "5824                  Sub-Saharan Africa              Cameroon  Personal Care   \n",
      "18010                 Sub-Saharan Africa          South Africa         Fruits   \n",
      "18025       Middle East and North Africa           Afghanistan      Beverages   \n",
      "45579       Middle East and North Africa               Algeria      Beverages   \n",
      "\n",
      "      Sales Channel Order Priority Order Date   Order ID Ship Date  \\\n",
      "13          Offline            NaN   10/15/10  660954082  11/19/10   \n",
      "189          Online            NaN     8/2/10  670038402   9/16/10   \n",
      "259         Offline            NaN   11/18/16  238470542   12/2/16   \n",
      "364          Online            NaN    4/21/15  307722604   4/30/15   \n",
      "469          Online            NaN    2/26/11  857914912   4/15/11   \n",
      "644          Online            NaN    7/11/17  468462884    8/4/17   \n",
      "784          Online            NaN    4/27/10  251652848   5/22/10   \n",
      "924         Offline            NaN    6/12/17  549222695   6/13/17   \n",
      "1064         Online            NaN     3/1/12  995547425   3/18/12   \n",
      "3969         Online            NaN   12/19/15  307628619    2/3/16   \n",
      "5054         Online            NaN    8/20/13  801565778   10/4/13   \n",
      "5824         Online            NaN    6/24/14  617243516   6/29/14   \n",
      "18010        Online            NaN    8/23/15  822616612   9/10/15   \n",
      "18025       Offline            NaN   12/26/11  886597812    2/3/12   \n",
      "45579        Online            NaN    7/30/13  196945655   8/23/13   \n",
      "\n",
      "       Units Sold  Unit Price  Unit Cost  Total Revenue  Total Cost  \\\n",
      "13           9855     154.060     90.930    1518261.300  896115.150   \n",
      "189          8108     437.200    263.330    3544817.600 2135079.640   \n",
      "259          7588       9.330      6.920      70796.040   52508.960   \n",
      "364           812      81.730     56.670      66364.760   46016.040   \n",
      "469          4942     109.280     35.840     540061.760  177121.280   \n",
      "644          7432     109.280     35.840     812168.960  266362.880   \n",
      "784          8525     421.890    364.690    3596612.250 3108982.250   \n",
      "924          6055     668.270    502.540    4046374.850 3042879.700   \n",
      "1064         3461     255.280    159.420     883524.080  551752.620   \n",
      "3969         2999       9.330      6.920      27980.670   20753.080   \n",
      "5054         9981     255.280    159.420    2547949.680 1591171.020   \n",
      "5824         4928      81.730     56.670     402765.440  279269.760   \n",
      "18010        9391       9.330      6.920      87618.030   64985.720   \n",
      "18025        2850      47.450     31.790     135232.500   90601.500   \n",
      "45579        9451      47.450     31.790     448449.950  300447.290   \n",
      "\n",
      "       Total Profit  \n",
      "13       622146.150  \n",
      "189     1409737.960  \n",
      "259       18287.080  \n",
      "364       20348.720  \n",
      "469      362940.480  \n",
      "644      545806.080  \n",
      "784      487630.000  \n",
      "924     1003495.150  \n",
      "1064     331771.460  \n",
      "3969       7227.590  \n",
      "5054     956778.660  \n",
      "5824     123495.680  \n",
      "18010     22632.310  \n",
      "18025     44631.000  \n",
      "45579    148002.660  \n"
     ]
    }
   ],
   "source": [
    "#This finds where the NaN values are in the Order Priority column\n",
    "NULLpriority = pd.isnull(MMSales['Order Priority'])\n",
    "print(MMSales[NULLpriority])"
   ]
  },
  {
   "cell_type": "code",
   "execution_count": 496,
   "metadata": {},
   "outputs": [
    {
     "name": "stdout",
     "output_type": "stream",
     "text": [
      "NULL\n",
      "NULL\n",
      "NULL\n",
      "NULL\n",
      "NULL\n",
      "NULL\n",
      "NULL\n",
      "NULL\n",
      "NULL\n",
      "NULL\n",
      "NULL\n",
      "NULL\n",
      "NULL\n",
      "NULL\n",
      "NULL\n",
      "Number of Incorrect Data is 15\n",
      "M       19887\n",
      "H       15099\n",
      "L        9986\n",
      "C        5013\n",
      "NULL       15\n",
      "Name: Order Priority, dtype: int64\n"
     ]
    }
   ],
   "source": [
    "#This replaces all values that are not C, H, M, or L with NULL values in the Order Priority column\n",
    "#This will kill two birds with one stone in the sense that both NaN values as well as the other priority codes will both be changed to NULL\n",
    "count = 0\n",
    "for index, row in MMSales.iterrows():\n",
    "    if row.loc['Order Priority'] != 'C' and row.loc['Order Priority'] != 'H' and row.loc['Order Priority'] != 'M' and row.loc['Order Priority'] != 'L':\n",
    "        MMSales.loc[int(index), 'Order Priority'] = \"NULL\"\n",
    "        print(MMSales.loc[int(index), 'Order Priority'])\n",
    "        count += 1\n",
    "print(f\"Number of Incorrect Data is {count}\")\n",
    "print(MMSales['Order Priority'].value_counts())"
   ]
  },
  {
   "cell_type": "code",
   "execution_count": 497,
   "metadata": {},
   "outputs": [
    {
     "name": "stdout",
     "output_type": "stream",
     "text": [
      "Snacks       2\n",
      "841351306    1\n",
      "458900058    1\n",
      "524966514    1\n",
      "859008395    1\n",
      "            ..\n",
      "530354535    1\n",
      "395619666    1\n",
      "932148587    1\n",
      "337019622    1\n",
      "203504836    1\n",
      "Name: Order ID, Length: 49999, dtype: int64\n"
     ]
    }
   ],
   "source": [
    "#Since there are no NaN values in the Order ID column, we need to find the values that have a string of characters rather than numbers\n",
    "print(MMSales['Order ID'].value_counts())"
   ]
  },
  {
   "cell_type": "code",
   "execution_count": 498,
   "metadata": {},
   "outputs": [
    {
     "name": "stdout",
     "output_type": "stream",
     "text": [
      "0            2\n",
      "841351306    1\n",
      "444674050    1\n",
      "524966514    1\n",
      "859008395    1\n",
      "            ..\n",
      "530354535    1\n",
      "395619666    1\n",
      "932148587    1\n",
      "337019622    1\n",
      "203504836    1\n",
      "Name: Order ID, Length: 49999, dtype: int64\n"
     ]
    }
   ],
   "source": [
    "#This replaces all data that isn't an ID number to 0 in Order ID\n",
    "MMSales['Order ID'] = MMSales['Order ID'].replace(to_replace = 'Snacks', value = '0')\n",
    "print(MMSales['Order ID'].value_counts())"
   ]
  },
  {
   "cell_type": "code",
   "execution_count": 499,
   "metadata": {},
   "outputs": [],
   "source": [
    "cleanMMSales = MMSales.copy()"
   ]
  },
  {
   "cell_type": "code",
   "execution_count": 500,
   "metadata": {},
   "outputs": [],
   "source": [
    "cleanMMSales.fillna({'Item Type':\"NULL\" , 'Order Priority':\"NULL\"}, inplace = True)"
   ]
  },
  {
   "cell_type": "code",
   "execution_count": 501,
   "metadata": {},
   "outputs": [],
   "source": [
    "#This cleans all the NULL data that we had created in all 4 columns\\\n",
    "cleanMMSales = cleanMMSales[cleanMMSales.Country != \"NULL\"]\n",
    "cleanMMSales = cleanMMSales[cleanMMSales['Item Type'] != \"NULL\"]\n",
    "cleanMMSales = cleanMMSales[cleanMMSales['Order Priority'] != \"NULL\"]\n",
    "cleanMMSales = cleanMMSales[cleanMMSales['Order ID'] != \"0\"]"
   ]
  },
  {
   "cell_type": "code",
   "execution_count": 502,
   "metadata": {},
   "outputs": [
    {
     "name": "stdout",
     "output_type": "stream",
     "text": [
      "0\n",
      "0\n",
      "0\n",
      "0\n"
     ]
    }
   ],
   "source": [
    "#This checks to see if the cleaning work by counting the amount of NULLs and 0s there are in the data columns we altered\n",
    "print(cleanMMSales['Country'][cleanMMSales['Country'] == 'NULL'].count())\n",
    "print(cleanMMSales['Item Type'][cleanMMSales['Item Type'] == 'NULL'].count())\n",
    "print(cleanMMSales['Order Priority'][cleanMMSales['Order Priority'] == 'NULL'].count())\n",
    "print(cleanMMSales['Order ID'][cleanMMSales['Order ID'] == '0'].count())"
   ]
  },
  {
   "cell_type": "code",
   "execution_count": 504,
   "metadata": {},
   "outputs": [],
   "source": [
    "cleanMMSales.to_csv('MM_Sales_Clean.csv')"
   ]
  },
  {
   "cell_type": "code",
   "execution_count": 505,
   "metadata": {},
   "outputs": [],
   "source": [
    "cleanMM = pd.read_csv('MM_Sales_Clean.csv', sep = ',')"
   ]
  },
  {
   "cell_type": "markdown",
   "metadata": {},
   "source": [
    "Part 2: Exploratory Data Analysis with Reports & Visualizations"
   ]
  },
  {
   "cell_type": "code",
   "execution_count": 506,
   "metadata": {},
   "outputs": [
    {
     "name": "stdout",
     "output_type": "stream",
     "text": [
      "          Country  Units Sold\n",
      "0     Afghanistan     1258326\n",
      "1         Albania     1497223\n",
      "2         Algeria     1343973\n",
      "3         Andorra     1353651\n",
      "4          Angola     1427082\n",
      "..            ...         ...\n",
      "180  Vatican City     1324785\n",
      "181       Vietnam     1422016\n",
      "182         Yemen     1180849\n",
      "183        Zambia     1271398\n",
      "184      Zimbabwe     1342557\n",
      "\n",
      "[185 rows x 2 columns]\n",
      "                              Country  Units Sold\n",
      "97                           Maldives     1634272\n",
      "62                             Guinea     1608549\n",
      "27                         Cape Verde     1602987\n",
      "38   Democratic Republic of the Congo     1573126\n",
      "137                            Samoa      1571773\n",
      "52                            Finland     1571170\n",
      "30                              China     1563925\n",
      "168               Trinidad and Tobago     1559938\n",
      "54                              Gabon     1554672\n",
      "152                       South Sudan     1552978\n"
     ]
    }
   ],
   "source": [
    "# 1a)\n",
    "\n",
    "#Since we want to know the top 10 countries with most number of sales, we group all the countries by the number of units they've sold through\n",
    "#all the 49974 transactions and order them by largest to smallest taking on the top 10\n",
    "groupCountry = cleanMM.groupby('Country').agg({'Units Sold': 'sum'}).reset_index()\n",
    "print(groupCountry)\n",
    "Top10UnitsCountry = groupCountry.nlargest(10, ['Units Sold'])\n",
    "print(Top10UnitsCountry)\n",
    "#The decision that should be taken by only looking at this data would be to create a shipping center in Cape Verde, because its the country\n",
    "#with the highest amount of transactions excluding the countries that already have a shipping center in them. But there would be no point\n",
    "#having a shipping center in a region that already had a shipping center. So not only should we find a country without a shipping center,\n",
    "#but that country should also be in a region that does not have a shipping center."
   ]
  },
  {
   "cell_type": "code",
   "execution_count": 507,
   "metadata": {},
   "outputs": [
    {
     "name": "stdout",
     "output_type": "stream",
     "text": [
      "                              Region  Units Sold\n",
      "0                               Asia    36776484\n",
      "1              Australia and Oceania    20074390\n",
      "2  Central America and the Caribbean    26969954\n",
      "3                             Europe    64284589\n",
      "4       Middle East and North Africa    30392902\n",
      "5                      North America     5605661\n",
      "6                 Sub-Saharan Africa    65730055\n",
      "                              Region  Units Sold\n",
      "6                 Sub-Saharan Africa    65730055\n",
      "3                             Europe    64284589\n",
      "0                               Asia    36776484\n",
      "4       Middle East and North Africa    30392902\n",
      "2  Central America and the Caribbean    26969954\n",
      "1              Australia and Oceania    20074390\n",
      "5                      North America     5605661\n",
      "                               Units Sold\n",
      "Region             Country               \n",
      "Asia               Bangladesh     1374905\n",
      "                   Bhutan         1258842\n",
      "                   Brunei         1220001\n",
      "                   Cambodia       1325765\n",
      "                   China          1563925\n",
      "...                                   ...\n",
      "Sub-Saharan Africa The Gambia     1472021\n",
      "                   Togo           1274130\n",
      "                   Uganda         1362202\n",
      "                   Zambia         1271398\n",
      "                   Zimbabwe       1342557\n",
      "\n",
      "[185 rows x 1 columns]\n",
      "                                                                    Units Sold\n",
      "Region                            Country                                     \n",
      "Asia                              Maldives                             1634272\n",
      "Sub-Saharan Africa                Guinea                               1608549\n",
      "                                  Cape Verde                           1602987\n",
      "                                  Democratic Republic of the Congo     1573126\n",
      "Australia and Oceania             Samoa                                1571773\n",
      "Europe                            Finland                              1571170\n",
      "Asia                              China                                1563925\n",
      "Central America and the Caribbean Trinidad and Tobago                  1559938\n",
      "Sub-Saharan Africa                Gabon                                1554672\n",
      "                                  South Sudan                          1552978\n"
     ]
    }
   ],
   "source": [
    "#Our main priority now is to pick a top 10 country that is within a region higher in the top of most transactions by region.\n",
    "groupRegion = cleanMM.groupby('Region').agg({'Units Sold': 'sum'}).reset_index()\n",
    "print(groupRegion)\n",
    "Top10Region = groupRegion.nlargest(10, ['Units Sold'])\n",
    "print(Top10Region)\n",
    "groupRegionbyCountry = cleanMM.groupby(['Region','Country']).agg({'Units Sold': 'sum'})\n",
    "print(groupRegionbyCountry)\n",
    "Top10UnitsCountries = groupRegionbyCountry.nlargest(10, ['Units Sold'])\n",
    "print(Top10UnitsCountries)\n",
    "#With the 3 countries that have existing shipping centers being:\n",
    "#Trinidad and Tobago - which occupies Central America and the Caribbean\n",
    "#Guinea - which occupies Sub Saharan Africa\n",
    "#Maldives - which occupies Asia\n",
    "#the next region with the highest units sold but has no existing shipping center would be Europe then Middle East and North Africa, with only\n",
    "#Finland being the only country between the two regions having a spot in the top 10 countries. The best decision is to make a shipping center\n",
    "#in Finland due to both Finland and Europe having most sales in the both top regions as well as countries."
   ]
  },
  {
   "cell_type": "code",
   "execution_count": 508,
   "metadata": {},
   "outputs": [
    {
     "data": {
      "image/png": "[encoded data removed]",
      "text/plain": [
       "<Figure size 1800x720 with 1 Axes>"
      ]
     },
     "metadata": {},
     "output_type": "display_data"
    }
   ],
   "source": [
    "sns.set(style='whitegrid')\n",
    "plt.figure(figsize=(25,10))\n",
    "# Country is x here and Units Sold is y\n",
    "plt.bar(Top10UnitsCountry.Country, Top10UnitsCountry['Units Sold'])\n",
    "plt.ticklabel_format(style='plain', axis='y')\n",
    "plt.title('Top 10 Countries by Transaction Sales')\n",
    "plt.xlabel('Country')\n",
    "plt.ylabel('Units Sold')\n",
    "plt.show()"
   ]
  },
  {
   "cell_type": "code",
   "execution_count": 509,
   "metadata": {},
   "outputs": [],
   "source": [
    "# 1b)\n",
    "\n",
    "#This appends the results to a txt file and write the correct answer to the question where should we build a shipping center?\n",
    "with open(\"MM_Rankings.txt\", \"w+\") as writer:\n",
    "    writer.writelines(Top10UnitsCountry.to_string(index = True))\n",
    "    writer.writelines(\"\\n\")"
   ]
  },
  {
   "cell_type": "code",
   "execution_count": 510,
   "metadata": {},
   "outputs": [],
   "source": [
    "with open(\"MM_Rankings.txt\", \"a+\") as writer:\n",
    "    writer.write(\"\\nCountries Most Sale Transactions:\\n\")\n",
    "index_country = Top10UnitsCountry.Country.tolist()\n",
    "country = index_country\n",
    "index_units = Top10UnitsCountry['Units Sold'].tolist()\n",
    "unit = index_units\n",
    "with open(\"MM_Rankings.txt\", \"a+\") as writer:\n",
    "    for x,y in zip(country, unit):\n",
    "        writer.write(f\"{x} : {y}\\n\")\n",
    "    writer.write(f\"The country we should build our shipping center is Finland because not only does Finland occupy a place in the top 10\\n countries with the most sales transactions, but Finland is also in the next highest transaction region in Europe after\\n Sub-Saharan Africa, which already has a shipping center in Guinea\")"
   ]
  },
  {
   "cell_type": "code",
   "execution_count": 511,
   "metadata": {},
   "outputs": [
    {
     "name": "stdout",
     "output_type": "stream",
     "text": [
      "Number of Offline Orders:\n",
      "19790\n",
      "Number of Online Orders:\n",
      "30184\n"
     ]
    }
   ],
   "source": [
    "# 2-1)\n",
    "\n",
    "#This determines the count of how many offline and online orders Marvel Market Recieves in the Sales Channel\n",
    "print(f\"Number of Offline Orders:\")\n",
    "print(cleanMM['Sales Channel'][cleanMM['Sales Channel'] == 'Offline'].count())\n",
    "print(f\"Number of Online Orders:\")\n",
    "print(cleanMM['Sales Channel'][cleanMM['Sales Channel'] == 'Online'].count())"
   ]
  },
  {
   "cell_type": "code",
   "execution_count": 512,
   "metadata": {},
   "outputs": [
    {
     "name": "stdout",
     "output_type": "stream",
     "text": [
      "Number of L Priority Codes:\n",
      "9984\n",
      "Number of M Priority Codes:\n",
      "19882\n",
      "Number of H Priority Codes:\n",
      "15096\n",
      "Number of C Priority Codes:\n",
      "5012\n"
     ]
    }
   ],
   "source": [
    "# 2-2)\n",
    "\n",
    "#This determines the count of the unique priority codes\n",
    "print(f\"Number of L Priority Codes:\")\n",
    "print(cleanMM['Order Priority'][cleanMM['Order Priority'] == 'L'].count())\n",
    "print(f\"Number of M Priority Codes:\")\n",
    "print(cleanMM['Order Priority'][cleanMM['Order Priority'] == 'M'].count())\n",
    "print(f\"Number of H Priority Codes:\")\n",
    "print(cleanMM['Order Priority'][cleanMM['Order Priority'] == 'H'].count())\n",
    "print(f\"Number of C Priority Codes:\")\n",
    "print(cleanMM['Order Priority'][cleanMM['Order Priority'] == 'C'].count())"
   ]
  },
  {
   "cell_type": "code",
   "execution_count": 513,
   "metadata": {},
   "outputs": [
    {
     "name": "stdout",
     "output_type": "stream",
     "text": [
      "Order Priority\n",
      "C     5012\n",
      "H    15096\n",
      "L     9984\n",
      "M    19882\n",
      "Name: Country, dtype: int64\n"
     ]
    },
    {
     "data": {
      "image/png": "[encoded data removed]",
      "text/plain": [
       "<Figure size 504x504 with 1 Axes>"
      ]
     },
     "metadata": {},
     "output_type": "display_data"
    },
    {
     "name": "stdout",
     "output_type": "stream",
     "text": [
      "Sales Channel\n",
      "Offline    19790\n",
      "Online     30184\n",
      "Name: Country, dtype: int64\n"
     ]
    },
    {
     "data": {
      "image/png": "[encoded data removed]",
      "text/plain": [
       "<Figure size 504x504 with 1 Axes>"
      ]
     },
     "metadata": {},
     "output_type": "display_data"
    }
   ],
   "source": [
    "# 2-3)\n",
    "\n",
    "#This creates a PieGraph for both OrderPriority and SalesChannel columns\n",
    "#This is the Order Priority Pie Graph\n",
    "MMCodes = cleanMM.groupby(['Order Priority']).count()\n",
    "MMCodePrio = MMCodes['Country']\n",
    "\n",
    "print(MMCodePrio)\n",
    "\n",
    "plt.figure(figsize=(7, 7))\n",
    "plt.pie(MMCodePrio, labels=MMCodePrio.index, shadow=True, autopct='%.2f')\n",
    "plt.axis('equal')  # centers pie chart\n",
    "plt.legend(loc=3, title='Count of Priority Codes')\n",
    "plt.show()\n",
    "\n",
    "#This is the Sales Channel Pie Graph\n",
    "MMSales = cleanMM.groupby(['Sales Channel']).count()\n",
    "MMChannel = MMSales['Country']\n",
    "\n",
    "print(MMChannel)\n",
    "\n",
    "plt.figure(figsize=(7, 7))\n",
    "plt.pie(MMChannel, labels=MMChannel.index, shadow=True, autopct='%.2f')\n",
    "plt.axis('equal')  # centers pie chart\n",
    "plt.legend(loc=4, title='Count of Offline/Online')\n",
    "plt.show()"
   ]
  },
  {
   "cell_type": "code",
   "execution_count": 514,
   "metadata": {},
   "outputs": [],
   "source": [
    "#2-4)\n",
    "\n",
    "#This writes the results of the past 3 questions into the MM_Rankings text by appending the sentences and results\n",
    "with open(\"MM_Rankings.txt\", \"a+\") as writer:\n",
    "    writer.writelines(\"\\n\")\n",
    "    writer.writelines(f\"\\nSales Channel:\\nOnline: 30184\\nOffline: 19790\\nWe do more Online sales.\\n\")\n",
    "    writer.writelines(f\"\\nOrder Priorities:\\nL: 9984\\nM: 19882\\nH: 15096\\nC: 5012\\nWe do more M order priorities.\\n\")"
   ]
  },
  {
   "cell_type": "code",
   "execution_count": 515,
   "metadata": {},
   "outputs": [
    {
     "data": {
      "image/png": "[encoded data removed]",
      "text/plain": [
       "<Figure size 1080x360 with 1 Axes>"
      ]
     },
     "metadata": {},
     "output_type": "display_data"
    }
   ],
   "source": [
    "#3-1)\n",
    "\n",
    "#This creates a boxplot showing the distribution of Total Profits by Item Type\n",
    "plt.figure(figsize=(15, 5))\n",
    "plt.title(\"Total Profits Distribution by Item Type\")\n",
    "plt.ticklabel_format(style='plain', axis='x')\n",
    "ax = sns.boxplot(cleanMM['Total Profit'], cleanMM['Item Type'][0:100])"
   ]
  },
  {
   "cell_type": "code",
   "execution_count": 516,
   "metadata": {},
   "outputs": [
    {
     "name": "stdout",
     "output_type": "stream",
     "text": [
      "          Item Type   Total Profit\n",
      "4         Cosmetics 3638645299.300\n",
      "6         Household 3401180998.060\n",
      "8   Office Supplies 2605440187.500\n",
      "0         Baby Food 1942865748.120\n",
      "2            Cereal 1824726412.290\n",
      "3           Clothes 1520832019.680\n",
      "11       Vegetables 1322639660.240\n",
      "7              Meat 1196826774.000\n",
      "10           Snacks 1149715758.720\n",
      "9     Personal Care  535250525.600\n",
      "1         Beverages  327559249.080\n",
      "5            Fruits   51025156.240\n"
     ]
    }
   ],
   "source": [
    "#3-2)\n",
    "\n",
    "#This determines the sum of the Total Profit by each unique Item Type and orders them by ascending order.\n",
    "TotalProfitItem = cleanMM.groupby('Item Type').agg({'Total Profit': 'sum'}).reset_index()\n",
    "SortedTotalProfitItem = TotalProfitItem.sort_values(by=['Total Profit'], ascending = False)\n",
    "print(SortedTotalProfitItem)"
   ]
  },
  {
   "cell_type": "code",
   "execution_count": 517,
   "metadata": {},
   "outputs": [
    {
     "data": {
      "image/png": "[encoded data removed]",
      "text/plain": [
       "<Figure size 1080x360 with 1 Axes>"
      ]
     },
     "metadata": {},
     "output_type": "display_data"
    }
   ],
   "source": [
    "#3-3)\n",
    "\n",
    "#This creates a bargraph of the total profit sum by item type.\n",
    "plt.figure(figsize=(15,5))\n",
    "plt.ticklabel_format(style='plain', axis='x')\n",
    "plt.barh(TotalProfitItem['Item Type'], TotalProfitItem['Total Profit'])\n",
    "plt.title('Total Profit Sum by Item Type')\n",
    "plt.xlabel('Item Type')\n",
    "plt.ylabel('Total Profit')\n",
    "plt.show()"
   ]
  },
  {
   "cell_type": "code",
   "execution_count": 518,
   "metadata": {},
   "outputs": [
    {
     "name": "stdout",
     "output_type": "stream",
     "text": [
      "          Item Type   Total Profit\n",
      "4         Cosmetics 3638645299.300\n",
      "6         Household 3401180998.060\n",
      "8   Office Supplies 2605440187.500\n",
      "0         Baby Food 1942865748.120\n",
      "2            Cereal 1824726412.290\n",
      "3           Clothes 1520832019.680\n",
      "11       Vegetables 1322639660.240\n",
      "7              Meat 1196826774.000\n",
      "10           Snacks 1149715758.720\n",
      "9     Personal Care  535250525.600\n",
      "1         Beverages  327559249.080\n",
      "5            Fruits   51025156.240\n",
      "\n",
      "This is the Top 3 Item Types by Highest Total Profit:\n",
      "\n",
      "         Item Type   Total Profit\n",
      "4        Cosmetics 3638645299.300\n",
      "6        Household 3401180998.060\n",
      "8  Office Supplies 2605440187.500\n"
     ]
    }
   ],
   "source": [
    "#3-4)\n",
    "\n",
    "#This ranks the top three item types in most sales to least sales order according to the total profits column.\n",
    "TotalProfitItem = cleanMM.groupby('Item Type').agg({'Total Profit': 'sum'}).reset_index()\n",
    "SortedTotalProfitItem = TotalProfitItem.sort_values(by=['Total Profit'], ascending = False)\n",
    "print(f\"{SortedTotalProfitItem}\\n\")\n",
    "print(\"This is the Top 3 Item Types by Highest Total Profit:\\n\")\n",
    "Top3profitItem = TotalProfitItem.nlargest(3, ['Total Profit'])\n",
    "print(Top3profitItem)"
   ]
  },
  {
   "cell_type": "code",
   "execution_count": 519,
   "metadata": {},
   "outputs": [],
   "source": [
    "#3-5)\n",
    "\n",
    "#This writes the top 3 Item Types into the MM_Rankings.txt file\n",
    "with open(\"MM_Rankings.txt\", \"a+\") as writer:\n",
    "    writer.writelines(f\"\\nHighest Selling Items:\\nCosmetics: $3,648,645,299.3\\nHousehold: $3,401,180,998.06\\nOffice Supplies: $2,605,440,187.5\\nWe profited from Cosmetics the most.\\n\")"
   ]
  },
  {
   "cell_type": "markdown",
   "metadata": {},
   "source": [
    "# 3-6)\n",
    "# This is a markdown section that is analyzing the results of the boxplots.\n",
    "With the data derived from the Total Profit grouped by Item Type, we find out that the 3 most profitable items were cosmetics, then households, and finally office supplies. But on top on that by looking at the ascending order of total profit we also see the next three item types are Baby Foods, Cereal, and Clothes which all sit comfortably around 1,5-2 trillion. With Cosmetics and Office Supplies holding medians and spreads well above the other item types, this makes me believe there is a relation between the range and median of the total profits per transactions and the total profit a item type will result in. This makes me want to consider the opportunity of the item type clothes. Clothes currently hold a position in the top 6 most most profiting item types by total profit, but in the box plot, the clothes median and range is one of the lowest only a little higher than fruits. If the pattern of returning profits per transaction were increase to the range of lets say snacks, and the median was increased to meet that range, then perhaps the total profits of clothes flourish to be one of the highest returns of all item types. As these are medians of profit per transaction, that could possibly mean that Marvel Mart is selling clothes too cheap and with a little increase, they could make a bigger profit from clothes. On the other hand, fruits is most definitely struggling in the Marvel Mart. This might be because the idea of fresh produce might not be the most relatable to 'Marvel' but at the same time fruits tend to also have a shorter lifespan even when refrigerated, which makes it hard to sell when its rotting faster that persay vegetables and meats. This might have contributed to its low total profits. Overall if Marvel can continue to leverage their cosmetics, households, and office supplies while figuring out ways to leverage the low median total price per transaction of clothes they should be able to further increase their revenue if total profit has some form of relationship with increasing their clothing selling costs."
   ]
  },
  {
   "cell_type": "code",
   "execution_count": 520,
   "metadata": {},
   "outputs": [
    {
     "name": "stdout",
     "output_type": "stream",
     "text": [
      "Total Units Sold:\n",
      "249834035\n",
      "\n",
      "Total Units Cost:\n",
      "9361403.26\n",
      "\n",
      "Sum of Total Revenue:\n",
      "66149230224.85\n",
      "\n",
      "Sum of Total Cost:\n",
      "46632522436.02\n",
      "\n",
      "Sum of Total Profits:\n",
      "19516707788.83\n"
     ]
    }
   ],
   "source": [
    "#4-1)\n",
    "\n",
    "#This shows the SUM of the requested columnns: Units Sold, Unit Cost, Total Revenue, Total Cost, Total Profits.\n",
    "print(\"Total Units Sold:\")\n",
    "TotalUnitsSold = cleanMM['Units Sold'].sum()\n",
    "print (f\"{TotalUnitsSold}\\n\")\n",
    "print(\"Total Units Cost:\")\n",
    "TotalUnitCost = cleanMM['Unit Cost'].sum()\n",
    "print (f\"{TotalUnitCost}\\n\")\n",
    "print(\"Sum of Total Revenue:\")\n",
    "SumRevenue = cleanMM['Total Revenue'].sum()\n",
    "SumRevenue = str(round(SumRevenue, 2))\n",
    "print (f\"{SumRevenue}\\n\")\n",
    "print(\"Sum of Total Cost:\")\n",
    "SumCosts = cleanMM['Total Cost'].sum()\n",
    "SumCosts = str(round(SumCosts, 2))\n",
    "print (f\"{SumCosts}\\n\")\n",
    "print(\"Sum of Total Profits:\")\n",
    "SumProfits = cleanMM['Total Profit'].sum()\n",
    "SumProfits = str(round(SumProfits, 2))\n",
    "print (SumProfits)"
   ]
  },
  {
   "cell_type": "code",
   "execution_count": 451,
   "metadata": {},
   "outputs": [
    {
     "name": "stdout",
     "output_type": "stream",
     "text": [
      "Mean Units Sold:\n",
      "4999.28\n",
      "\n",
      "Mean Units Cost:\n",
      "187.33\n",
      "\n",
      "Mean of Total Revenue:\n",
      "1323672.91\n",
      "\n",
      "Mean of Total Cost:\n",
      "933135.68\n",
      "\n",
      "Mean of Total Profits:\n",
      "390537.24\n"
     ]
    }
   ],
   "source": [
    "#4-2)\n",
    "\n",
    "#This shows the Mean/Average of the requested columnns: Units Sold, Unit Cost, Total Revenue, Total Cost, Total Profits.\n",
    "print(\"Mean Units Sold:\")\n",
    "MeanUnitsSold = cleanMM['Units Sold'].mean()\n",
    "MeanUnitsSold = str(round(MeanUnitsSold, 2))\n",
    "print (f\"{MeanUnitsSold}\\n\")\n",
    "print(\"Mean Units Cost:\")\n",
    "MeanUnitCost = cleanMM['Unit Cost'].mean()\n",
    "MeanUnitCost = str(round(MeanUnitCost, 2))\n",
    "print (f\"{MeanUnitCost}\\n\")\n",
    "print(\"Mean of Total Revenue:\")\n",
    "MeanRevenue = cleanMM['Total Revenue'].mean()\n",
    "MeanRevenue = str(round(MeanRevenue, 2))\n",
    "print (f\"{MeanRevenue}\\n\")\n",
    "print(\"Mean of Total Cost:\")\n",
    "MeanCosts = cleanMM['Total Cost'].mean()\n",
    "MeanCosts = str(round(MeanCosts, 2))\n",
    "print (f\"{MeanCosts}\\n\")\n",
    "print(\"Mean of Total Profits:\")\n",
    "MeanProfits = cleanMM['Total Profit'].mean()\n",
    "MeanProfits = str(round(MeanProfits, 2))\n",
    "print (MeanProfits)"
   ]
  },
  {
   "cell_type": "code",
   "execution_count": 452,
   "metadata": {},
   "outputs": [
    {
     "name": "stdout",
     "output_type": "stream",
     "text": [
      "Max Units Sold:\n",
      "10000\n",
      "\n",
      "Max Units Cost:\n",
      "524.96\n",
      "\n",
      "Max of Total Revenue:\n",
      "6682031.73\n",
      "\n",
      "Max of Total Cost:\n",
      "5249075.04\n",
      "\n",
      "Max of Total Profits:\n",
      "1738178.39\n"
     ]
    }
   ],
   "source": [
    "#4-3)\n",
    "\n",
    "#This shows the Maximum of the requested columnns: Units Sold, Unit Cost, Total Revenue, Total Cost, Total Profits.\n",
    "print(\"Max Units Sold:\")\n",
    "MaxUnitsSold = cleanMM['Units Sold'].max()\n",
    "print (f\"{MaxUnitsSold}\\n\")\n",
    "print(\"Max Units Cost:\")\n",
    "MaxUnitCost = cleanMM['Unit Cost'].max()\n",
    "print (f\"{MaxUnitCost}\\n\")\n",
    "print(\"Max of Total Revenue:\")\n",
    "MaxRevenue = cleanMM['Total Revenue'].max()\n",
    "print (f\"{MaxRevenue}\\n\")\n",
    "print(\"Max of Total Cost:\")\n",
    "MaxCosts = cleanMM['Total Cost'].max()\n",
    "print (f\"{MaxCosts}\\n\")\n",
    "print(\"Max of Total Profits:\")\n",
    "MaxProfits = cleanMM['Total Profit'].max()\n",
    "print (MaxProfits)"
   ]
  },
  {
   "cell_type": "code",
   "execution_count": 443,
   "metadata": {},
   "outputs": [
    {
     "data": {
      "image/png": "[encoded data removed]",
      "text/plain": [
       "<Figure size 720x720 with 1 Axes>"
      ]
     },
     "metadata": {},
     "output_type": "display_data"
    },
    {
     "data": {
      "image/png": "[encoded data removed]",
      "text/plain": [
       "<Figure size 720x720 with 1 Axes>"
      ]
     },
     "metadata": {},
     "output_type": "display_data"
    }
   ],
   "source": [
    "#4-4)\n",
    "\n",
    "#This creates two line graphs one for SUM and one for Average\n",
    "#This is the line graph for the Sums\n",
    "plt.figure(figsize=(10, 10))\n",
    "plt.ticklabel_format(style='plain', axis='y')\n",
    "plt.plot(['Total Units Sold', 'Total Units Cost', 'Total Revenue Sum', 'Total Cost Sum', 'Total Profit Sum'], [249834035, 9361403.26, 66149230224.85, 46632522436.02, 19516707788.83])\n",
    "plt.title('Line Graph of Column Sums')\n",
    "plt.xlabel('Sums')\n",
    "plt.ylabel('Values')\n",
    "plt.show()\n",
    "\n",
    "#This is the line graph for the Averages\n",
    "plt.figure(figsize=(10, 10))\n",
    "plt.ticklabel_format(style='plain', axis='y')\n",
    "plt.plot(['Mean Units Sold', 'Mean Units Cost', 'Total Revenue Mean', 'Total Cost Mean', 'Total Profit Mean'], [4999.28, 187.33, 1323672.91, 933135.68, 390537.24], [10000, 524.96, 6682031.73, 5249075.04, 1738178.39])\n",
    "plt.title('Line Graph of Column Averages')\n",
    "plt.xlabel('Average')\n",
    "plt.ylabel('Values')\n",
    "plt.show()"
   ]
  },
  {
   "cell_type": "code",
   "execution_count": 444,
   "metadata": {},
   "outputs": [],
   "source": [
    "#4-5)\n",
    "\n",
    "#This appends the results of the Sums, averages, and max, to the MM_Rankings.txt file\n",
    "with open(\"MM_Calc.txt\", \"w\") as writer:\n",
    "    writer.write(f\"\\nSums:\\nUnits Sold: 249,834,035\\nUnit Cost: $9,361,403.26\\nTotal Revenue: $66,149,230,224.85\\nTotal Cost: $46,632,522,436.02\\nTotal Profit: $19,516,707,788.83\\n\")\n",
    "    writer.write(f\"\\nAverages:\\nUnits Sold: 4,999.28\\nUnit Cost: $187.33\\nTotal Revenue: $1,323,672.91\\nTotal Cost: $933.135.68\\nTotal Profit: $390,537.24\\n\")\n",
    "    writer.write(f\"\\nMaximums:\\nUnits Sold: 10,000\\nUnit Cost: $524.96\\nTotal Revenue: $6,682,031.73\\nTotal Cost: $5,249,075.04\\nTotal Profit: $1,738,178.39\\n\")"
   ]
  },
  {
   "cell_type": "markdown",
   "metadata": {},
   "source": [
    "Part 3: Cross-Reference Statistics"
   ]
  },
  {
   "cell_type": "code",
   "execution_count": 445,
   "metadata": {},
   "outputs": [
    {
     "name": "stdout",
     "output_type": "stream",
     "text": [
      "Region\n",
      "Asia                                 [Indonesia, India, South Korea, Kazakhstan, Mo...\n",
      "Australia and Oceania                [Tuvalu, Samoa , Fiji, Marshall Islands, New Z...\n",
      "Central America and the Caribbean    [Antigua and Barbuda , Saint Kitts and Nevis ,...\n",
      "Europe                               [Iceland, Russia, Moldova , Malta, Greece, Ukr...\n",
      "Middle East and North Africa         [Turkey, Iraq, Kuwait, Tunisia , Yemen, United...\n",
      "North America                        [Greenland, United States of America, Canada, ...\n",
      "Sub-Saharan Africa                   [Namibia, Djibouti, Cameroon, Nigeria, Senegal...\n",
      "Name: Country, dtype: object\n"
     ]
    }
   ],
   "source": [
    "#1\n",
    "\n",
    "#This creates a list of the Regions and its cities with no duplicate regions nor country\n",
    "regionNcountry = cleanMM.groupby('Region')['Country'].unique()\n",
    "print(regionNcountry)"
   ]
  },
  {
   "cell_type": "code",
   "execution_count": 523,
   "metadata": {},
   "outputs": [
    {
     "name": "stdout",
     "output_type": "stream",
     "text": [
      "                                  Region             Country\n",
      "0                     Sub-Saharan Africa             Namibia\n",
      "1                                 Europe             Iceland\n",
      "2                                 Europe              Russia\n",
      "3                                 Europe            Moldova \n",
      "4                                 Europe               Malta\n",
      "...                                  ...                 ...\n",
      "49969  Central America and the Caribbean  Dominican Republic\n",
      "49970  Central America and the Caribbean                Cuba\n",
      "49971                               Asia             Vietnam\n",
      "49972                 Sub-Saharan Africa        Sierra Leone\n",
      "49973                 Sub-Saharan Africa             Eritrea\n",
      "\n",
      "[49974 rows x 2 columns]\n",
      "['Sub-Saharan Africa' 'Europe' 'Asia' 'Middle East and North Africa'\n",
      " 'Central America and the Caribbean' 'Australia and Oceania'\n",
      " 'North America']\n",
      "0             Namibia\n",
      "6            Djibouti\n",
      "8            Cameroon\n",
      "9             Nigeria\n",
      "10            Senegal\n",
      "             ...     \n",
      "49958           Benin\n",
      "49963        Ethiopia\n",
      "49964     Seychelles \n",
      "49972    Sierra Leone\n",
      "49973         Eritrea\n",
      "Name: Country, Length: 13109, dtype: object\n",
      "1           Iceland\n",
      "2            Russia\n",
      "3          Moldova \n",
      "4             Malta\n",
      "7            Greece\n",
      "            ...    \n",
      "49951        Serbia\n",
      "49953        Russia\n",
      "49956       Finland\n",
      "49966        Sweden\n",
      "49968    San Marino\n",
      "Name: Country, Length: 12836, dtype: object\n",
      "5          Indonesia\n",
      "11             India\n",
      "30       South Korea\n",
      "62        Kazakhstan\n",
      "66          Mongolia\n",
      "            ...     \n",
      "49949      Indonesia\n",
      "49954          Nepal\n",
      "49957     Kazakhstan\n",
      "49962     Bangladesh\n",
      "49971        Vietnam\n",
      "Name: Country, Length: 7347, dtype: object\n",
      "12            Turkey\n",
      "13              Iraq\n",
      "19            Kuwait\n",
      "24            Kuwait\n",
      "26          Tunisia \n",
      "            ...     \n",
      "49936        Morocco\n",
      "49944        Somalia\n",
      "49959       Pakistan\n",
      "49961    Afghanistan\n",
      "49965         Kuwait\n",
      "Name: Country, Length: 6119, dtype: object\n",
      "18         Antigua and Barbuda \n",
      "21       Saint Kitts and Nevis \n",
      "22         Antigua and Barbuda \n",
      "23                  Saint Lucia\n",
      "32          Trinidad and Tobago\n",
      "                  ...          \n",
      "49946                     Haiti\n",
      "49952                   Jamaica\n",
      "49960                  Honduras\n",
      "49969        Dominican Republic\n",
      "49970                      Cuba\n",
      "Name: Country, Length: 5448, dtype: object\n",
      "29                 Tuvalu\n",
      "40                 Samoa \n",
      "49                 Samoa \n",
      "52                   Fiji\n",
      "71       Marshall Islands\n",
      "               ...       \n",
      "49882               Palau\n",
      "49893           Australia\n",
      "49901    Marshall Islands\n",
      "49955            Kiribati\n",
      "49967           Australia\n",
      "Name: Country, Length: 4016, dtype: object\n",
      "57                      Greenland\n",
      "68       United States of America\n",
      "105                        Canada\n",
      "109                        Mexico\n",
      "159                     Greenland\n",
      "                   ...           \n",
      "49783    United States of America\n",
      "49789    United States of America\n",
      "49814                      Mexico\n",
      "49871                   Greenland\n",
      "49929    United States of America\n",
      "Name: Country, Length: 1099, dtype: object\n",
      "['Greenland' 'United States of America' 'Canada' 'Mexico']\n",
      "                  Sub-Saharan Africa                  Europe          Asia  \\\n",
      "0                            Namibia                 Iceland     Indonesia   \n",
      "1                           Djibouti                  Russia         India   \n",
      "2                           Cameroon                Moldova    South Korea   \n",
      "3                            Nigeria                   Malta    Kazakhstan   \n",
      "4                            Senegal                  Greece      Mongolia   \n",
      "5                             Rwanda                 Ukraine      Malaysia   \n",
      "6                        South Sudan                 Finland     Singapore   \n",
      "7                             Guinea          United Kingdom        Brunei   \n",
      "8                           Botswana              San Marino    Kyrgyzstan   \n",
      "9                              Sudan                  Kosovo        Taiwan   \n",
      "10                          Tanzania                 Hungary     Sri Lanka   \n",
      "11             Sao Tome and Principe                  Serbia   North Korea   \n",
      "12                        Cape Verde                  Poland      Cambodia   \n",
      "13                     Guinea-Bissau               Lithuania    Tajikistan   \n",
      "14                      South Africa                Portugal  Turkmenistan   \n",
      "15                      Sierra Leone                 Georgia      Maldives   \n",
      "16                        Mozambique                Bulgaria          Laos   \n",
      "17                              Chad                 Austria       Myanmar   \n",
      "18                              Togo                 Romania        Bhutan   \n",
      "19                              Mali                 Denmark       Vietnam   \n",
      "20                 Equatorial Guinea              Luxembourg         Japan   \n",
      "21                           Eritrea                 Croatia   Philippines   \n",
      "22                             Niger                  Sweden         China   \n",
      "23                        Madagascar                  Cyprus    Bangladesh   \n",
      "24                             Gabon              Montenegro    Uzbekistan   \n",
      "25                            Angola            Vatican City      Thailand   \n",
      "26                          Ethiopia                  France         Nepal   \n",
      "27                           Liberia             Netherlands           NaN   \n",
      "28  Democratic Republic of the Congo                 Estonia           NaN   \n",
      "29                       Seychelles   Bosnia and Herzegovina           NaN   \n",
      "30                        Mauritius                   Monaco           NaN   \n",
      "31                           Comoros                 Germany           NaN   \n",
      "32                           Burundi                Slovenia           NaN   \n",
      "33                            Zambia                 Ireland           NaN   \n",
      "34                           Lesotho                  Latvia           NaN   \n",
      "35                        The Gambia                 Belgium           NaN   \n",
      "36                             Benin             Switzerland           NaN   \n",
      "37                            Malawi                   Italy           NaN   \n",
      "38                        Mauritania                 Belarus           NaN   \n",
      "39          Central African Republic          Czech Republic           NaN   \n",
      "40                             Kenya           Liechtenstein           NaN   \n",
      "41                             Ghana               Macedonia           NaN   \n",
      "42                         Swaziland                Slovakia           NaN   \n",
      "43                      Burkina Faso                   Spain           NaN   \n",
      "44                            Uganda                 Andorra           NaN   \n",
      "45                          Zimbabwe                 Albania           NaN   \n",
      "46                     Cote d'Ivoire                  Norway           NaN   \n",
      "47             Republic of the Congo                 Armenia           NaN   \n",
      "\n",
      "   Middle East and North Africa Central America and the Caribbean  \\\n",
      "0                        Turkey              Antigua and Barbuda    \n",
      "1                          Iraq            Saint Kitts and Nevis    \n",
      "2                        Kuwait                       Saint Lucia   \n",
      "3                      Tunisia                Trinidad and Tobago   \n",
      "4                         Yemen                         Guatemala   \n",
      "5          United Arab Emirates  Saint Vincent and the Grenadines   \n",
      "6                       Bahrain                           Jamaica   \n",
      "7                      Pakistan                           Grenada   \n",
      "8                       Lebanon                          Honduras   \n",
      "9                       Somalia                            Belize   \n",
      "10                        Egypt                          Barbados   \n",
      "11                         Iran                       El Salvador   \n",
      "12                       Jordan                Dominican Republic   \n",
      "13                        Syria                       The Bahamas   \n",
      "14                      Morocco                              Cuba   \n",
      "15                  Afghanistan                         Nicaragua   \n",
      "16                   Azerbaijan                        Costa Rica   \n",
      "17                 Saudi Arabia                            Panama   \n",
      "18                        Libya                          Dominica   \n",
      "19                      Algeria                             Haiti   \n",
      "20                         Oman                               NaN   \n",
      "21                       Israel                               NaN   \n",
      "22                        Qatar                               NaN   \n",
      "23                          NaN                               NaN   \n",
      "24                          NaN                               NaN   \n",
      "25                          NaN                               NaN   \n",
      "26                          NaN                               NaN   \n",
      "27                          NaN                               NaN   \n",
      "28                          NaN                               NaN   \n",
      "29                          NaN                               NaN   \n",
      "30                          NaN                               NaN   \n",
      "31                          NaN                               NaN   \n",
      "32                          NaN                               NaN   \n",
      "33                          NaN                               NaN   \n",
      "34                          NaN                               NaN   \n",
      "35                          NaN                               NaN   \n",
      "36                          NaN                               NaN   \n",
      "37                          NaN                               NaN   \n",
      "38                          NaN                               NaN   \n",
      "39                          NaN                               NaN   \n",
      "40                          NaN                               NaN   \n",
      "41                          NaN                               NaN   \n",
      "42                          NaN                               NaN   \n",
      "43                          NaN                               NaN   \n",
      "44                          NaN                               NaN   \n",
      "45                          NaN                               NaN   \n",
      "46                          NaN                               NaN   \n",
      "47                          NaN                               NaN   \n",
      "\n",
      "             Australia and Oceania             North America  \n",
      "0                           Tuvalu                 Greenland  \n",
      "1                           Samoa   United States of America  \n",
      "2                             Fiji                    Canada  \n",
      "3                 Marshall Islands                    Mexico  \n",
      "4                      New Zealand                       NaN  \n",
      "5                  Solomon Islands                       NaN  \n",
      "6                          Vanuatu                       NaN  \n",
      "7                        Australia                       NaN  \n",
      "8                 Papua New Guinea                       NaN  \n",
      "9                            Nauru                       NaN  \n",
      "10                        Kiribati                       NaN  \n",
      "11                           Tonga                       NaN  \n",
      "12                           Palau                       NaN  \n",
      "13                      East Timor                       NaN  \n",
      "14  Federated States of Micronesia                       NaN  \n",
      "15                             NaN                       NaN  \n",
      "16                             NaN                       NaN  \n",
      "17                             NaN                       NaN  \n",
      "18                             NaN                       NaN  \n",
      "19                             NaN                       NaN  \n",
      "20                             NaN                       NaN  \n",
      "21                             NaN                       NaN  \n",
      "22                             NaN                       NaN  \n",
      "23                             NaN                       NaN  \n",
      "24                             NaN                       NaN  \n",
      "25                             NaN                       NaN  \n",
      "26                             NaN                       NaN  \n",
      "27                             NaN                       NaN  \n",
      "28                             NaN                       NaN  \n",
      "29                             NaN                       NaN  \n",
      "30                             NaN                       NaN  \n",
      "31                             NaN                       NaN  \n",
      "32                             NaN                       NaN  \n",
      "33                             NaN                       NaN  \n",
      "34                             NaN                       NaN  \n",
      "35                             NaN                       NaN  \n",
      "36                             NaN                       NaN  \n",
      "37                             NaN                       NaN  \n",
      "38                             NaN                       NaN  \n",
      "39                             NaN                       NaN  \n",
      "40                             NaN                       NaN  \n",
      "41                             NaN                       NaN  \n",
      "42                             NaN                       NaN  \n",
      "43                             NaN                       NaN  \n",
      "44                             NaN                       NaN  \n",
      "45                             NaN                       NaN  \n",
      "46                             NaN                       NaN  \n",
      "47                             NaN                       NaN  \n"
     ]
    }
   ],
   "source": [
    "#2-1)\n",
    "\n",
    "#This converts the list of region and countries and convert it to a dictionary that can be put in a pandas dataframe.\n",
    "regionNcountry = pd.read_csv(\"MM_Sales_Clean.csv\")[[\"Region\", \"Country\"]]\n",
    "print(regionNcountry)\n",
    "Regions = regionNcountry[\"Region\"].unique()\n",
    "print(Regions)\n",
    "convertdictionary = {}\n",
    "for region in Regions:\n",
    "    convertdictionary[region] = regionNcountry[regionNcountry[\"Region\"].eq(region)][\"Country\"]\n",
    "    print(convertdictionary[region])\n",
    "    convertdictionary[region] = convertdictionary[region].unique()\n",
    "print(convertdictionary[region])\n",
    "createDF = [pd.DataFrame({key : convertdictionary[key]}) for key in convertdictionary.keys()]\n",
    "regionNcountry = pd.concat(createDF, axis = 1)\n",
    "print(regionNcountry)"
   ]
  },
  {
   "cell_type": "code",
   "execution_count": 447,
   "metadata": {},
   "outputs": [],
   "source": [
    "#2-2)\n",
    "\n",
    "#This codes the database into a csv file named Countries By Region\n",
    "regionNcountry.to_csv(\"Countries_By_Region.csv\")"
   ]
  }
 ],
 "metadata": {
  "kernelspec": {
   "display_name": "Python 3",
   "language": "python",
   "name": "python3"
  },
  "language_info": {
   "codemirror_mode": {
    "name": "ipython",
    "version": 3
   },
   "file_extension": ".py",
   "mimetype": "text/x-python",
   "name": "python",
   "nbconvert_exporter": "python",
   "pygments_lexer": "ipython3",
   "version": "3.8.5"
  }
 },
 "nbformat": 4,
 "nbformat_minor": 4
}

